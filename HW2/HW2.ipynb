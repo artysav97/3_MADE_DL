{
 "cells": [
  {
   "cell_type": "markdown",
   "metadata": {},
   "source": [
    "# RL and Advanced DL: Домашнее задание 2"
   ]
  },
  {
   "cell_type": "markdown",
   "metadata": {},
   "source": [
    "Второе домашнее задание опять посвящено игре; его базовая часть, надеюсь, не слишком большая, но я добавил опциональную часть, которая, думаю, должна быть достаточно интересной для любого слушателя. Как обычно, в качестве решения ожидается ссылка на jupyter-ноутбук на вашем github (или публичный, или с доступом для snikolenko); ссылку обязательно нужно прислать в виде сданного домашнего задания на портале Академии. Любые комментарии, новые идеи и рассуждения на тему, как всегда, категорически приветствуются."
   ]
  },
  {
   "cell_type": "code",
   "execution_count": 1,
   "metadata": {},
   "outputs": [
    {
     "name": "stderr",
     "output_type": "stream",
     "text": [
      "C:\\Users\\artys\\anaconda3\\lib\\site-packages\\sklearn\\utils\\deprecation.py:143: FutureWarning: The sklearn.utils.testing module is  deprecated in version 0.22 and will be removed in version 0.24. The corresponding classes / functions should instead be imported from sklearn.utils. Anything that cannot be imported from sklearn.utils is now part of the private API.\n",
      "  warnings.warn(message, FutureWarning)\n"
     ]
    }
   ],
   "source": [
    "import gym\n",
    "\n",
    "import matplotlib as mpl\n",
    "import matplotlib.pyplot as plt\n",
    "import seaborn as sns\n",
    "import json\n",
    "import math\n",
    "import random\n",
    "import numpy as np\n",
    "import scipy as sp\n",
    "import scipy.stats as st\n",
    "import scipy.integrate as integrate\n",
    "from scipy.stats import multivariate_normal\n",
    "from sklearn import linear_model\n",
    "from sklearn.utils.testing import ignore_warnings\n",
    "from sklearn.exceptions import ConvergenceWarning\n",
    "import statsmodels.api as sm\n",
    "from matplotlib.colors import LogNorm\n",
    "import pickle\n",
    "from tqdm.notebook import tqdm_notebook\n",
    "from tqdm import tqdm\n",
    "from copy import deepcopy\n",
    "\n",
    "from joblib import Parallel, delayed\n",
    "import multiprocessing\n",
    "from collections import namedtuple\n",
    "from collections import defaultdict\n",
    "from collections import deque\n",
    "from itertools import count\n",
    "\n",
    "import cProfile\n",
    "from datetime import datetime\n",
    "\n",
    "import torch\n",
    "import torch.nn as nn\n",
    "import torch.optim as optim\n",
    "import torch.nn.functional as F\n",
    "import torchvision.transforms as T\n",
    "from torch.autograd import Variable\n",
    "\n",
    "sns.set_style(\"whitegrid\")\n",
    "sns.set_palette(\"colorblind\")\n",
    "palette = sns.color_palette()\n",
    "figsize = (15,8)\n",
    "legend_fontsize = 16\n",
    "%matplotlib inline"
   ]
  },
  {
   "cell_type": "markdown",
   "metadata": {},
   "source": [
    "# Опсиание среды"
   ]
  },
  {
   "cell_type": "code",
   "execution_count": 2,
   "metadata": {},
   "outputs": [],
   "source": [
    "N_ROWS, N_COLS, N_WIN = 3, 3, 3"
   ]
  },
  {
   "cell_type": "code",
   "execution_count": 3,
   "metadata": {},
   "outputs": [],
   "source": [
    "class TicTacToe(gym.Env):\n",
    "    def __init__(self, n_rows=N_ROWS, n_cols=N_COLS, n_win=N_WIN, clone=None):\n",
    "        if clone is not None:\n",
    "            self.n_rows, self.n_cols, self.n_win = clone.n_rows, clone.n_cols, clone.n_win\n",
    "            self.board = copy.deepcopy(clone.board)\n",
    "            self.curTurn = clone.curTurn\n",
    "            self.emptySpaces = None\n",
    "            self.boardHash = None\n",
    "        else:\n",
    "            self.n_rows = n_rows\n",
    "            self.n_cols = n_cols\n",
    "            self.n_win = n_win\n",
    "\n",
    "            self.reset()\n",
    "\n",
    "    def getEmptySpaces(self):\n",
    "        if self.emptySpaces is None:\n",
    "            res = np.where(self.board == 0)\n",
    "            self.emptySpaces = np.array([ (i, j) for i,j in zip(res[0], res[1]) ])\n",
    "        return self.emptySpaces\n",
    "\n",
    "    def makeMove(self, player, i, j):\n",
    "        self.board[i, j] = player\n",
    "        self.emptySpaces = None\n",
    "        self.boardHash = None\n",
    "\n",
    "    def getHash(self):\n",
    "        if self.boardHash is None:\n",
    "            self.boardHash = ''.join(['%s' % (x+1) for x in self.board.reshape(self.n_rows * self.n_cols)])\n",
    "        return self.boardHash\n",
    "\n",
    "    def isTerminal(self):\n",
    "        # проверим, не закончилась ли игра\n",
    "        cur_marks, cur_p = np.where(self.board == self.curTurn), self.curTurn\n",
    "        for i,j in zip(cur_marks[0], cur_marks[1]):\n",
    "            win = False\n",
    "            if i <= self.n_rows - self.n_win:\n",
    "                if np.all(self.board[i:i+self.n_win, j] == cur_p):\n",
    "                    win = True\n",
    "            if not win:\n",
    "                if j <= self.n_cols - self.n_win:\n",
    "                    if np.all(self.board[i,j:j+self.n_win] == cur_p):\n",
    "                        win = True\n",
    "            if not win:\n",
    "                if i <= self.n_rows - self.n_win and j <= self.n_cols - self.n_win:\n",
    "                    if np.all(np.array([ self.board[i+k,j+k] == cur_p for k in range(self.n_win) ])):\n",
    "                        win = True\n",
    "            if not win:\n",
    "                if i <= self.n_rows - self.n_win and j >= self.n_win-1:\n",
    "                    if np.all(np.array([ self.board[i+k,j-k] == cur_p for k in range(self.n_win) ])):\n",
    "                        win = True\n",
    "            if win:\n",
    "                self.gameOver = True\n",
    "                return self.curTurn\n",
    "\n",
    "        if len(self.getEmptySpaces()) == 0:\n",
    "            self.gameOver = True\n",
    "            return 0\n",
    "\n",
    "        self.gameOver = False\n",
    "        return None\n",
    "\n",
    "    def printBoard(self):\n",
    "        for i in range(0, self.n_rows):\n",
    "            print('----'*(self.n_cols)+'-')\n",
    "            out = '| '\n",
    "            for j in range(0, self.n_cols):\n",
    "                if self.board[i, j] == 1:\n",
    "                    token = 'x'\n",
    "                if self.board[i, j] == -1:\n",
    "                    token = 'o'\n",
    "                if self.board[i, j] == 0:\n",
    "                    token = ' '\n",
    "                out += token + ' | '\n",
    "            print(out)\n",
    "        print('----'*(self.n_cols)+'-')\n",
    "\n",
    "    def getState(self):\n",
    "        return (self.getHash(), self.getEmptySpaces(), self.curTurn)\n",
    "\n",
    "    def action_from_int(self, action_int):\n",
    "        return ( int(action_int / self.n_cols), int(action_int % self.n_cols))\n",
    "\n",
    "    def int_from_action(self, action):\n",
    "        return action[0] * self.n_cols + action[1]\n",
    "    \n",
    "    def step(self, action):\n",
    "        if self.board[action[0], action[1]] != 0:\n",
    "            return self.getState(), -10, True, {}\n",
    "        self.makeMove(self.curTurn, action[0], action[1])\n",
    "        reward = self.isTerminal()\n",
    "        self.curTurn = -self.curTurn\n",
    "        return self.getState(), 0 if reward is None else reward, reward is not None, {}\n",
    "\n",
    "    def reset(self):\n",
    "        self.board = np.zeros((self.n_rows, self.n_cols), dtype=int)\n",
    "        self.boardHash = None\n",
    "        self.gameOver = False\n",
    "        self.emptySpaces = None\n",
    "        self.curTurn = 1"
   ]
  },
  {
   "cell_type": "markdown",
   "metadata": {},
   "source": [
    "## Функция для отрисовки средних выигрышей"
   ]
  },
  {
   "cell_type": "code",
   "execution_count": 4,
   "metadata": {},
   "outputs": [],
   "source": [
    "def draw_rewards(algorithm, crosses_rewards, zeros_rewards, print_every=1):\n",
    "    \n",
    "    print(f'Данные о среднем выигрыше по всем сыгранным {len(crosses_rewards)} играм для крестиков')\n",
    "    print(f'Данные о среднем выигрыше по всем сыгранным {len(zeros_rewards)} играм для ноликов')\n",
    "\n",
    "    fig, ax = plt.subplots(1, 1, figsize=(10, 6))\n",
    "    ax.set_xlabel('Количество игр', fontsize=14)\n",
    "    ax.set_ylabel('Средний кумулятивный выигрыш', fontsize=14)\n",
    "\n",
    "    mean_cum_rewards_crosses = np.true_divide(np.nancumsum(crosses_rewards), np.arange(1, len(crosses_rewards)+1))\n",
    "    mean_cum_rewards_zeros = np.true_divide(np.nancumsum(zeros_rewards), np.arange(1, len(zeros_rewards)+1))\n",
    "\n",
    "    ax.plot(np.arange(1, len(mean_cum_rewards_crosses)+1)[print_every::print_every], \n",
    "            mean_cum_rewards_crosses[print_every::print_every], \n",
    "            label=f'{algorithm} - крестики')\n",
    "    ax.plot(np.arange(1, len(mean_cum_rewards_zeros)+1)[print_every::print_every], \n",
    "            mean_cum_rewards_zeros[print_every::print_every], \n",
    "            label=f'{algorithm} - нолики')\n",
    "\n",
    "    ax.legend(fontsize=14)    \n",
    "    \n",
    "    plt.show()"
   ]
  },
  {
   "cell_type": "markdown",
   "metadata": {},
   "source": [
    "# Часть первая: крестики-нолики при помощи Q-обучения"
   ]
  },
  {
   "cell_type": "markdown",
   "metadata": {},
   "source": [
    "В коде, прилагающемся к последней лекции про обучение с подкреплением, реализован Environment для крестиков-ноликов, в котором можно при инициализации указывать разные размеры доски и условия победы, а также функции для рисования, в том числе с указанием оценки различных действий. С этим окружением все задания и связаны."
   ]
  },
  {
   "cell_type": "markdown",
   "metadata": {},
   "source": [
    "1. Реализуйте обычное (табличное) Q-обучение. Обучите стратегии крестиков и ноликов для доски 3х3.\n",
    "2. Попробуйте обучить стратегии крестиков и ноликов для доски 4х4 и/или 5х5."
   ]
  },
  {
   "cell_type": "markdown",
   "metadata": {},
   "source": [
    "## Task 1-2"
   ]
  },
  {
   "cell_type": "code",
   "execution_count": 5,
   "metadata": {},
   "outputs": [],
   "source": [
    "# Стратегия, которую обучаем\n",
    "def e_greedy(env, Q, epsilon = 0.01):\n",
    "    state = env.getState()\n",
    "    state_mask, possible_actions, player_num = state\n",
    "    if state_mask not in Q.keys():\n",
    "        Q[state_mask] = np.zeros(len(possible_actions))\n",
    "    \n",
    "    if np.random.random() > epsilon:\n",
    "        return np.argmax(Q[state_mask]), possible_actions[np.argmax(Q[state_mask])]\n",
    "    else:\n",
    "        action_num = np.random.choice(len(possible_actions))\n",
    "        return action_num, possible_actions[action_num]"
   ]
  },
  {
   "cell_type": "code",
   "execution_count": 6,
   "metadata": {},
   "outputs": [],
   "source": [
    "# Стратегия с которой играем при обучении\n",
    "def opponet_strategy(env, Q = None):\n",
    "    if Q is None:\n",
    "        possible_actions = env.getState()[1]\n",
    "        action_num = np.random.choice(len(possible_actions))\n",
    "    else:\n",
    "        NotImplemented()\n",
    "    \n",
    "    return action_num, possible_actions[action_num]"
   ]
  },
  {
   "cell_type": "code",
   "execution_count": 7,
   "metadata": {},
   "outputs": [],
   "source": [
    "# Один эпизод игры\n",
    "def Q_learning_episode(env, crosses_flg, Q, opponents_Q=None, alpha=0.05, epsilon=0.0, gamma=0.9):\n",
    "    env.reset()\n",
    "    \n",
    "    # Crosses goes first\n",
    "    if env.curTurn != crosses_flg:\n",
    "        # Opponent player turn\n",
    "        num_action_opponent, action_opponent = opponet_strategy(env)\n",
    "        _, _, done, _ = env.step(action_opponent)\n",
    "        \n",
    "    while True:\n",
    "        # Learning player turn\n",
    "        state = env.getState()\n",
    "        state_mask, possible_actions, player_num = state\n",
    "        num_action, action = e_greedy(env, Q)\n",
    "        _, reward, done, _ = env.step(action)\n",
    "        reward = reward * crosses_flg\n",
    "        if done:\n",
    "            break\n",
    "\n",
    "        # Opponent player turn\n",
    "        num_action_opponent, action_opponent = opponet_strategy(env, opponents_Q)\n",
    "        state_new, reward, done, _ = env.step(action_opponent)\n",
    "        reward = reward * crosses_flg\n",
    "        if done:\n",
    "            break\n",
    "\n",
    "        # Updating learning Q\n",
    "        state_mask_new, possible_actions_new, player_num_new = state_new\n",
    "        if state_mask_new not in Q.keys():\n",
    "            Q[state_mask_new] = np.zeros(len(possible_actions_new))\n",
    "        Q[state_mask][num_action] += alpha * (reward + gamma * np.max(Q[state_mask_new]) - Q[state_mask][num_action])\n",
    "\n",
    "\n",
    "    # Update if done\n",
    "    Q[state_mask][num_action] += alpha * (reward  - Q[state_mask][num_action])\n",
    "    \n",
    "    return Q, reward"
   ]
  },
  {
   "cell_type": "code",
   "execution_count": 8,
   "metadata": {},
   "outputs": [],
   "source": [
    "# Функция для обучения алгоритма\n",
    "def Qlearning(env, \n",
    "              crosses_flg=1, \n",
    "              opponents_Q=None, \n",
    "              total_episodes=100,\n",
    "              alpha=0.05, \n",
    "              epsilon=0.0, \n",
    "              gamma=0.9\n",
    "             ):\n",
    "    Q = {}\n",
    "    rewards_list = []\n",
    "    \n",
    "    for i in tqdm_notebook(range(total_episodes)):\n",
    "        Q, reward = Q_learning_episode(env, crosses_flg, Q, opponents_Q, alpha, epsilon, gamma)\n",
    "        rewards_list.append(reward)\n",
    "    \n",
    "    return Q, rewards_list"
   ]
  },
  {
   "cell_type": "markdown",
   "metadata": {},
   "source": [
    "### Поле 3x3"
   ]
  },
  {
   "cell_type": "code",
   "execution_count": 9,
   "metadata": {},
   "outputs": [
    {
     "data": {
      "application/vnd.jupyter.widget-view+json": {
       "model_id": "2ec11c272ec34d66841d8ceed1fd6418",
       "version_major": 2,
       "version_minor": 0
      },
      "text/plain": [
       "HBox(children=(FloatProgress(value=0.0, max=100000.0), HTML(value='')))"
      ]
     },
     "metadata": {},
     "output_type": "display_data"
    },
    {
     "name": "stdout",
     "output_type": "stream",
     "text": [
      "\n"
     ]
    },
    {
     "data": {
      "application/vnd.jupyter.widget-view+json": {
       "model_id": "b6f316ea86eb40ebb23e1e9b16be8267",
       "version_major": 2,
       "version_minor": 0
      },
      "text/plain": [
       "HBox(children=(FloatProgress(value=0.0, max=100000.0), HTML(value='')))"
      ]
     },
     "metadata": {},
     "output_type": "display_data"
    },
    {
     "name": "stdout",
     "output_type": "stream",
     "text": [
      "\n",
      "Wall time: 1min 54s\n"
     ]
    }
   ],
   "source": [
    "%%time\n",
    "total_episodes=10**5\n",
    "env = TicTacToe(n_rows=3, n_cols=3, n_win=3)\n",
    "\n",
    "Q_crosses, Q_crosses_rewards = Qlearning(env, \n",
    "                                         crosses_flg=1, \n",
    "                                         opponents_Q=None, \n",
    "                                         total_episodes=total_episodes,\n",
    "                                         alpha=0.01, \n",
    "                                         epsilon=0.01, \n",
    "                                         gamma=1\n",
    "                                        )\n",
    "\n",
    "Q_zeros, Q_zeros_rewards = Qlearning(env, \n",
    "                                     crosses_flg=-1, \n",
    "                                     opponents_Q=None, \n",
    "                                     total_episodes=total_episodes,\n",
    "                                     alpha=0.01, \n",
    "                                     epsilon=0.01, \n",
    "                                     gamma=1\n",
    "                                    )"
   ]
  },
  {
   "cell_type": "code",
   "execution_count": 10,
   "metadata": {},
   "outputs": [
    {
     "name": "stdout",
     "output_type": "stream",
     "text": [
      "Данные о среднем выигрыше по всем сыгранным 100000 играм для крестиков\n",
      "Данные о среднем выигрыше по всем сыгранным 100000 играм для ноликов\n"
     ]
    },
    {
     "data": {
      "image/png": "[encoded data removed]",
      "text/plain": [
       "<Figure size 720x432 with 1 Axes>"
      ]
     },
     "metadata": {
      "needs_background": "light"
     },
     "output_type": "display_data"
    }
   ],
   "source": [
    "draw_rewards(algorithm='Q_learning', \n",
    "             crosses_rewards=Q_crosses_rewards, \n",
    "             zeros_rewards=Q_zeros_rewards,\n",
    "             print_every=total_episodes//100\n",
    "            )"
   ]
  },
  {
   "cell_type": "markdown",
   "metadata": {},
   "source": [
    "### Поле 4x4"
   ]
  },
  {
   "cell_type": "code",
   "execution_count": 11,
   "metadata": {},
   "outputs": [
    {
     "data": {
      "application/vnd.jupyter.widget-view+json": {
       "model_id": "09b27d523b84492997ca4f89e7fac0fd",
       "version_major": 2,
       "version_minor": 0
      },
      "text/plain": [
       "HBox(children=(FloatProgress(value=0.0, max=100000.0), HTML(value='')))"
      ]
     },
     "metadata": {},
     "output_type": "display_data"
    },
    {
     "name": "stdout",
     "output_type": "stream",
     "text": [
      "\n"
     ]
    },
    {
     "data": {
      "application/vnd.jupyter.widget-view+json": {
       "model_id": "2cd4453c42aa483382e9b8e438b97385",
       "version_major": 2,
       "version_minor": 0
      },
      "text/plain": [
       "HBox(children=(FloatProgress(value=0.0, max=100000.0), HTML(value='')))"
      ]
     },
     "metadata": {},
     "output_type": "display_data"
    },
    {
     "name": "stdout",
     "output_type": "stream",
     "text": [
      "\n",
      "Wall time: 2min 33s\n"
     ]
    }
   ],
   "source": [
    "%%time\n",
    "total_episodes=10**5\n",
    "env = TicTacToe(n_rows=4, n_cols=4, n_win=3)\n",
    "\n",
    "Q_crosses, Q_crosses_rewards = Qlearning(env, \n",
    "                                         crosses_flg=1, \n",
    "                                         opponents_Q=None, \n",
    "                                         total_episodes=total_episodes,\n",
    "                                         alpha=0.01, \n",
    "                                         epsilon=0.01, \n",
    "                                         gamma=1\n",
    "                                        )\n",
    "\n",
    "Q_zeros, Q_zeros_rewards = Qlearning(env, \n",
    "                                     crosses_flg=-1, \n",
    "                                     opponents_Q=None, \n",
    "                                     total_episodes=total_episodes,\n",
    "                                     alpha=0.01, \n",
    "                                     epsilon=0.01, \n",
    "                                     gamma=1\n",
    "                                    )"
   ]
  },
  {
   "cell_type": "code",
   "execution_count": 12,
   "metadata": {},
   "outputs": [
    {
     "name": "stdout",
     "output_type": "stream",
     "text": [
      "Данные о среднем выигрыше по всем сыгранным 100000 играм для крестиков\n",
      "Данные о среднем выигрыше по всем сыгранным 100000 играм для ноликов\n"
     ]
    },
    {
     "data": {
      "image/png": "[encoded data removed]",
      "text/plain": [
       "<Figure size 720x432 with 1 Axes>"
      ]
     },
     "metadata": {
      "needs_background": "light"
     },
     "output_type": "display_data"
    }
   ],
   "source": [
    "draw_rewards(algorithm='Q_learning', \n",
    "             crosses_rewards=Q_crosses_rewards, \n",
    "             zeros_rewards=Q_zeros_rewards,\n",
    "             print_every=total_episodes//100\n",
    "            )"
   ]
  },
  {
   "cell_type": "markdown",
   "metadata": {},
   "source": [
    "### Поле 5x5"
   ]
  },
  {
   "cell_type": "code",
   "execution_count": 13,
   "metadata": {},
   "outputs": [
    {
     "data": {
      "application/vnd.jupyter.widget-view+json": {
       "model_id": "14324106c7e9440caa5c80fa3ed63dc4",
       "version_major": 2,
       "version_minor": 0
      },
      "text/plain": [
       "HBox(children=(FloatProgress(value=0.0, max=100000.0), HTML(value='')))"
      ]
     },
     "metadata": {},
     "output_type": "display_data"
    },
    {
     "name": "stdout",
     "output_type": "stream",
     "text": [
      "\n"
     ]
    },
    {
     "data": {
      "application/vnd.jupyter.widget-view+json": {
       "model_id": "acbcb0a10a464c47924281538756a94e",
       "version_major": 2,
       "version_minor": 0
      },
      "text/plain": [
       "HBox(children=(FloatProgress(value=0.0, max=100000.0), HTML(value='')))"
      ]
     },
     "metadata": {},
     "output_type": "display_data"
    },
    {
     "name": "stdout",
     "output_type": "stream",
     "text": [
      "\n",
      "Wall time: 2min 53s\n"
     ]
    }
   ],
   "source": [
    "%%time\n",
    "total_episodes=10**5\n",
    "env = TicTacToe(n_rows=5, n_cols=5, n_win=3)\n",
    "\n",
    "Q_crosses, Q_crosses_rewards = Qlearning(env, \n",
    "                                         crosses_flg=1, \n",
    "                                         opponents_Q=None, \n",
    "                                         total_episodes=total_episodes,\n",
    "                                         alpha=0.01, \n",
    "                                         epsilon=0.01, \n",
    "                                         gamma=1\n",
    "                                        )\n",
    "\n",
    "Q_zeros, Q_zeros_rewards = Qlearning(env, \n",
    "                                     crosses_flg=-1, \n",
    "                                     opponents_Q=None, \n",
    "                                     total_episodes=total_episodes,\n",
    "                                     alpha=0.01, \n",
    "                                     epsilon=0.01, \n",
    "                                     gamma=1\n",
    "                                    )"
   ]
  },
  {
   "cell_type": "code",
   "execution_count": 14,
   "metadata": {},
   "outputs": [
    {
     "name": "stdout",
     "output_type": "stream",
     "text": [
      "Данные о среднем выигрыше по всем сыгранным 100000 играм для крестиков\n",
      "Данные о среднем выигрыше по всем сыгранным 100000 играм для ноликов\n"
     ]
    },
    {
     "data": {
      "image/png": "[encoded data removed]",
      "text/plain": [
       "<Figure size 720x432 with 1 Axes>"
      ]
     },
     "metadata": {
      "needs_background": "light"
     },
     "output_type": "display_data"
    }
   ],
   "source": [
    "draw_rewards(algorithm='Q_learning', \n",
    "             crosses_rewards=Q_crosses_rewards, \n",
    "             zeros_rewards=Q_zeros_rewards,\n",
    "             print_every=total_episodes//100\n",
    "            )"
   ]
  },
  {
   "cell_type": "markdown",
   "metadata": {},
   "source": [
    "# Часть вторая: добавим нейронных сетей"
   ]
  },
  {
   "cell_type": "markdown",
   "metadata": {},
   "source": [
    "Реализуйте нейронную сеть для метода DQN на доске для крестиков-ноликов. Не буду ограничивать фантазию, но кажется, что свёртки 3х3 здесь должны неплохо работать (в том числе обобщаться на доски размера побольше)."
   ]
  },
  {
   "cell_type": "markdown",
   "metadata": {},
   "source": [
    "3. Реализуйте DQN с нейронной сетью, обучите стратегии крестиков и ноликов. Замечание: скорее всего, experience replay потребуется сразу же.\n",
    "4. Реализуйте Double DQN и/или Dueling DQN."
   ]
  },
  {
   "cell_type": "markdown",
   "metadata": {},
   "source": [
    "## Task 3"
   ]
  },
  {
   "cell_type": "code",
   "execution_count": 15,
   "metadata": {},
   "outputs": [],
   "source": [
    "class ReplayMemory():\n",
    "    def __init__(self, capacity):\n",
    "        self.capacity = capacity\n",
    "        self.memory = []\n",
    "        self.position = 0\n",
    "\n",
    "    def store(self, exptuple):\n",
    "        if len(self.memory) < self.capacity:\n",
    "            self.memory.append(None)\n",
    "        self.memory[self.position] = exptuple\n",
    "        self.position = (self.position + 1) % self.capacity\n",
    "       \n",
    "    def sample(self, batch_size):\n",
    "        return random.sample(self.memory, batch_size)\n",
    "    \n",
    "    def __len__(self):\n",
    "        return len(self.memory)"
   ]
  },
  {
   "cell_type": "code",
   "execution_count": 16,
   "metadata": {},
   "outputs": [],
   "source": [
    "class Network(nn.Module):\n",
    "    def __init__(self, rows, cols):\n",
    "        super(Network, self).__init__()\n",
    "        self.layer1 = nn.Sequential(\n",
    "            nn.Conv2d(1, 32, kernel_size=3, stride=1, padding=2),\n",
    "            nn.ReLU(),\n",
    "            nn.MaxPool2d(kernel_size=3, stride=1)\n",
    "        )\n",
    "        self.fc1 = nn.Linear(rows * cols * 32, 128)\n",
    "        self.fc2 = nn.Linear(128, rows*cols)\n",
    "\n",
    "    def forward(self, x): \n",
    "        out = self.layer1(x) \n",
    "        out = out.reshape(x.size(0), -1) \n",
    "        out = self.fc1(out) \n",
    "        out = self.fc2(out) \n",
    "        return out"
   ]
  },
  {
   "cell_type": "code",
   "execution_count": 17,
   "metadata": {},
   "outputs": [],
   "source": [
    "class TicTocDQN():\n",
    "    def __init__(self, env, crosses_flg, net):\n",
    "        self.env = env\n",
    "        self.crosses_flg = crosses_flg\n",
    "        self.model = net\n",
    "        self.memory = ReplayMemory(10000)\n",
    "        self.optimizer = optim.Adam(self.model.parameters(), 0.001)\n",
    "        self.steps_done = 0\n",
    "        self.rewards_list = []\n",
    "        self.loss_list = []\n",
    "        \n",
    "        self.gamma = 0.8\n",
    "        self.batch_size = 64\n",
    "        \n",
    "        self.eps_init, self.eps_final, self.eps_decay = 0.9, 0.05, 200\n",
    "        self.num_step = 0\n",
    "\n",
    "    def select_greedy_action(self, possible_moves, state_board):\n",
    "        possible_moves = np.array(possible_moves)\n",
    "        possible_moves = torch.tensor(possible_moves, dtype=torch.long)\n",
    "        \n",
    "        net_out = self.model(torch.tensor(np.array([[state_board]]), dtype=torch.float32))\n",
    "        net_out_possible = net_out[0][possible_moves]\n",
    "        \n",
    "        action_num = net_out_possible.argmax()\n",
    "        action = possible_moves[action_num]\n",
    "        return action\n",
    "    \n",
    "    def select_random_action(self, possible_moves, state_board):\n",
    "        random_action = random.choice(possible_moves)\n",
    "        return random_action\n",
    "        \n",
    "    def select_action(self, possible_moves, state_board):\n",
    "        sample = random.random()\n",
    "        self.num_step += 1\n",
    "        eps_threshold = self.eps_final + (self.eps_init - self.eps_final) * math.exp(-1. * self.num_step / self.eps_decay)\n",
    "        if sample > eps_threshold:\n",
    "            return self.select_greedy_action(possible_moves, state_board)\n",
    "        else:\n",
    "            return self.select_random_action(possible_moves, state_board)\n",
    "        \n",
    "    def run_episode(self, e=0, do_learning=True, greedy=False, render=False):\n",
    "        num_step = 0\n",
    "        loss_sum = 0\n",
    "        self.env.reset()\n",
    "\n",
    "        # Crosses goes first\n",
    "        if self.env.curTurn != self.crosses_flg:\n",
    "            # Opponent player turn\n",
    "            possible_moves = [self.env.int_from_action(i) for i in self.env.getEmptySpaces()]\n",
    "            state_board = self.env.board\n",
    "            action_opponent = self.select_random_action(possible_moves, state_board)\n",
    "            _, _, done, _ = self.env.step(self.env.action_from_int(int(action_opponent)))\n",
    "\n",
    "        while True:\n",
    "            if render:\n",
    "                self.env.render()\n",
    "            \n",
    "            # Learning player turn\n",
    "            state = self.env.getState()\n",
    "            possible_actions = [self.env.int_from_action(i) for i in state[1]]\n",
    "            state_board = self.env.board\n",
    "            \n",
    "            with torch.no_grad():\n",
    "                if greedy:\n",
    "                    action = self.select_greedy_action(possible_actions, state_board)\n",
    "                else:\n",
    "                    action = self.select_action(possible_actions, state_board)\n",
    "            \n",
    "            _, reward, done, _ = self.env.step(self.env.action_from_int(int(action)))\n",
    "\n",
    "            reward = reward * self.crosses_flg\n",
    "            if done:\n",
    "                # Adding transaction\n",
    "                state_board_tensor = torch.tensor([state_board], dtype=torch.float32)\n",
    "                state_board_new_tensor = torch.tensor([state_board_new], dtype=torch.float32)\n",
    "            \n",
    "                transition = (possible_actions, \n",
    "                          [state_board],\n",
    "                          action, \n",
    "                          possible_actions_new,\n",
    "                          [state_board_new_tensor],\n",
    "                          reward)\n",
    "                self.memory.store(transition)\n",
    "\n",
    "                if do_learning:\n",
    "                    self.learn()\n",
    "\n",
    "                if done:\n",
    "                    self.rewards_list.append(reward)\n",
    "                    self.loss_list.append(loss_sum)\n",
    "                    break\n",
    "\n",
    "            # Opponent player turn\n",
    "            possible_moves_opponent = [self.env.int_from_action(i) for i in self.env.getEmptySpaces()]\n",
    "            state_board_opponent = self.env.board\n",
    "            action_opponent = self.select_random_action(possible_moves_opponent, state_board_opponent)\n",
    "            state_new, reward, done, _ = self.env.step(self.env.action_from_int(int(action_opponent)))\n",
    "            possible_actions_new = [self.env.int_from_action(i) for i in state_new[1]]\n",
    "            state_board_new = self.env.board\n",
    "            reward = reward * self.crosses_flg\n",
    "\n",
    "    \n",
    "            # Adding transaction\n",
    "            state_board_tensor = torch.tensor([state_board], dtype=torch.float32)\n",
    "            state_board_new_tensor = torch.tensor([state_board_new], dtype=torch.float32)\n",
    "            \n",
    "            transition = (possible_actions, \n",
    "                          [state_board],\n",
    "                          action, \n",
    "                          possible_actions_new,\n",
    "                          [state_board_new_tensor],\n",
    "                          reward)\n",
    "            self.memory.store(transition)\n",
    "            \n",
    "            if do_learning:\n",
    "                loss = self.learn()\n",
    "                loss_sum += loss\n",
    "\n",
    "            if done:\n",
    "                self.rewards_list.append(reward)\n",
    "                self.loss_list.append(loss_sum)\n",
    "                break\n",
    "\n",
    "\n",
    "    def learn(self):\n",
    "        if len(self.memory) < self.batch_size:\n",
    "            return np.inf\n",
    "\n",
    "        # берём мини-батч из памяти\n",
    "        transitions = self.memory.sample(self.batch_size)\n",
    "        \n",
    "        batch_possible_actions = [el[0] for el in transitions]\n",
    "        batch_state_board = [el[1] for el in transitions]\n",
    "        batch_action = [el[2] for el in transitions]\n",
    "        batch_possible_actions_new = [el[3] for el in transitions]\n",
    "        batch_state_board_new = [el[4] for el in transitions]\n",
    "        batch_reward = [el[5] for el in transitions]\n",
    "        \n",
    "        batch_state_board = Variable(torch.tensor(np.array(batch_state_board), dtype=torch.float32))\n",
    "        batch_state_board_new = Variable(torch.tensor(np.array(batch_state_board), dtype=torch.float32))\n",
    "        batch_action = torch.tensor(np.array(batch_action), dtype=torch.long).reshape((-1, 1))\n",
    "        batch_reward = torch.tensor(np.array(batch_reward), dtype=torch.long).reshape((-1, 1))\n",
    "        \n",
    "        # считаем значения функции Q\n",
    "        Q = self.model(batch_state_board).gather(1, batch_action)\n",
    "\n",
    "        # оцениваем ожидаемые значения после этого действия\n",
    "        Qmax = self.model(batch_state_board_new).detach().max(1)[0].reshape((-1, 1))\n",
    "        Qnext = batch_reward + (self.gamma * Qmax)\n",
    "\n",
    "        # и хотим, чтобы Q было похоже на Qnext -- это и есть суть Q-обучения\n",
    "        loss = F.smooth_l1_loss(Q, Qnext)\n",
    "\n",
    "        self.optimizer.zero_grad()\n",
    "        loss.backward()\n",
    "        self.optimizer.step()\n",
    "        \n",
    "        return loss.item()"
   ]
  },
  {
   "cell_type": "markdown",
   "metadata": {},
   "source": [
    "### Поле 3х3"
   ]
  },
  {
   "cell_type": "code",
   "execution_count": 18,
   "metadata": {},
   "outputs": [
    {
     "data": {
      "application/vnd.jupyter.widget-view+json": {
       "model_id": "1af8b83360b54cd6a04c248d7c5b672d",
       "version_major": 2,
       "version_minor": 0
      },
      "text/plain": [
       "HBox(children=(FloatProgress(value=0.0, max=5000.0), HTML(value='')))"
      ]
     },
     "metadata": {},
     "output_type": "display_data"
    },
    {
     "name": "stdout",
     "output_type": "stream",
     "text": [
      "\n"
     ]
    },
    {
     "data": {
      "application/vnd.jupyter.widget-view+json": {
       "model_id": "280088249cf04a7e95fca9242727fb03",
       "version_major": 2,
       "version_minor": 0
      },
      "text/plain": [
       "HBox(children=(FloatProgress(value=0.0, max=5000.0), HTML(value='')))"
      ]
     },
     "metadata": {},
     "output_type": "display_data"
    },
    {
     "name": "stdout",
     "output_type": "stream",
     "text": [
      "\n",
      "Wall time: 10min 53s\n"
     ]
    }
   ],
   "source": [
    "%%time\n",
    "total_episodes=5000\n",
    "env = TicTacToe(n_rows=3, n_cols=3, n_win=3)\n",
    "\n",
    "# Учимся играть крестиками\n",
    "dqn_crosses = TicTocDQN(env = env, crosses_flg = 1, net = Network(env.n_rows, env.n_cols))\n",
    "for e in tqdm_notebook(range(total_episodes)):\n",
    "    dqn_crosses.run_episode(e, do_learning=True)\n",
    "    \n",
    "# Учимся играть ноликами\n",
    "dqn_zeros = TicTocDQN(env = env, crosses_flg = -1, net = Network(env.n_rows, env.n_cols))\n",
    "for e in tqdm_notebook(range(total_episodes)):\n",
    "    dqn_zeros.run_episode(e, do_learning=True)\n"
   ]
  },
  {
   "cell_type": "code",
   "execution_count": 19,
   "metadata": {},
   "outputs": [
    {
     "name": "stdout",
     "output_type": "stream",
     "text": [
      "Данные о среднем выигрыше по всем сыгранным 5000 играм для крестиков\n",
      "Данные о среднем выигрыше по всем сыгранным 5000 играм для ноликов\n"
     ]
    },
    {
     "data": {
      "image/png": "[encoded data removed]",
      "text/plain": [
       "<Figure size 720x432 with 1 Axes>"
      ]
     },
     "metadata": {
      "needs_background": "light"
     },
     "output_type": "display_data"
    }
   ],
   "source": [
    "draw_rewards(algorithm='DQN', \n",
    "             crosses_rewards=dqn_crosses.rewards_list, \n",
    "             zeros_rewards=dqn_zeros.rewards_list,\n",
    "             print_every=total_episodes//100\n",
    "            )"
   ]
  },
  {
   "cell_type": "markdown",
   "metadata": {},
   "source": [
    "### Поле 4х4"
   ]
  },
  {
   "cell_type": "code",
   "execution_count": 20,
   "metadata": {},
   "outputs": [
    {
     "data": {
      "application/vnd.jupyter.widget-view+json": {
       "model_id": "ceae16fa3a0b42e8b4fefbe7c093b998",
       "version_major": 2,
       "version_minor": 0
      },
      "text/plain": [
       "HBox(children=(FloatProgress(value=0.0, max=5000.0), HTML(value='')))"
      ]
     },
     "metadata": {},
     "output_type": "display_data"
    },
    {
     "name": "stdout",
     "output_type": "stream",
     "text": [
      "\n"
     ]
    },
    {
     "data": {
      "application/vnd.jupyter.widget-view+json": {
       "model_id": "d8ad8276cbe548bda4ac97cd004fa3ef",
       "version_major": 2,
       "version_minor": 0
      },
      "text/plain": [
       "HBox(children=(FloatProgress(value=0.0, max=5000.0), HTML(value='')))"
      ]
     },
     "metadata": {},
     "output_type": "display_data"
    },
    {
     "name": "stdout",
     "output_type": "stream",
     "text": [
      "\n",
      "Wall time: 15min 22s\n"
     ]
    }
   ],
   "source": [
    "%%time\n",
    "total_episodes=5000\n",
    "env = TicTacToe(n_rows=4, n_cols=4, n_win=3)\n",
    "\n",
    "# Учимся играть крестиками\n",
    "dqn_crosses = TicTocDQN(env = env, crosses_flg = 1, net = Network(env.n_rows, env.n_cols))\n",
    "for e in tqdm_notebook(range(total_episodes)):\n",
    "    dqn_crosses.run_episode(e, do_learning=True)\n",
    "    \n",
    "# Учимся играть ноликами\n",
    "dqn_zeros = TicTocDQN(env = env, crosses_flg = -1, net = Network(env.n_rows, env.n_cols))\n",
    "for e in tqdm_notebook(range(total_episodes)):\n",
    "    dqn_zeros.run_episode(e, do_learning=True)"
   ]
  },
  {
   "cell_type": "code",
   "execution_count": 21,
   "metadata": {},
   "outputs": [
    {
     "name": "stdout",
     "output_type": "stream",
     "text": [
      "Данные о среднем выигрыше по всем сыгранным 5000 играм для крестиков\n",
      "Данные о среднем выигрыше по всем сыгранным 5000 играм для ноликов\n"
     ]
    },
    {
     "data": {
      "image/png": "[encoded data removed]",
      "text/plain": [
       "<Figure size 720x432 with 1 Axes>"
      ]
     },
     "metadata": {
      "needs_background": "light"
     },
     "output_type": "display_data"
    }
   ],
   "source": [
    "draw_rewards(algorithm='DQN', \n",
    "             crosses_rewards=dqn_crosses.rewards_list, \n",
    "             zeros_rewards=dqn_zeros.rewards_list,\n",
    "             print_every=total_episodes//100\n",
    "            )"
   ]
  },
  {
   "cell_type": "markdown",
   "metadata": {},
   "source": [
    "### Поле 5х5"
   ]
  },
  {
   "cell_type": "code",
   "execution_count": 22,
   "metadata": {},
   "outputs": [
    {
     "data": {
      "application/vnd.jupyter.widget-view+json": {
       "model_id": "8c925c9753c740e4a86b1ce2741e7de4",
       "version_major": 2,
       "version_minor": 0
      },
      "text/plain": [
       "HBox(children=(FloatProgress(value=0.0, max=5000.0), HTML(value='')))"
      ]
     },
     "metadata": {},
     "output_type": "display_data"
    },
    {
     "name": "stdout",
     "output_type": "stream",
     "text": [
      "\n"
     ]
    },
    {
     "data": {
      "application/vnd.jupyter.widget-view+json": {
       "model_id": "124c8d6bc5504380ba9e059d5391e56d",
       "version_major": 2,
       "version_minor": 0
      },
      "text/plain": [
       "HBox(children=(FloatProgress(value=0.0, max=5000.0), HTML(value='')))"
      ]
     },
     "metadata": {},
     "output_type": "display_data"
    },
    {
     "name": "stdout",
     "output_type": "stream",
     "text": [
      "\n",
      "Wall time: 29min 3s\n"
     ]
    }
   ],
   "source": [
    "%%time\n",
    "total_episodes=5000\n",
    "env = TicTacToe(n_rows=5, n_cols=5, n_win=3)\n",
    "\n",
    "# Учимся играть крестиками\n",
    "dqn_crosses = TicTocDQN(env = env, crosses_flg = 1, net = Network(env.n_rows, env.n_cols))\n",
    "for e in tqdm_notebook(range(total_episodes)):\n",
    "    dqn_crosses.run_episode(e, do_learning=True)\n",
    "    \n",
    "# Учимся играть ноликами\n",
    "dqn_zeros = TicTocDQN(env = env, crosses_flg = -1, net = Network(env.n_rows, env.n_cols))\n",
    "for e in tqdm_notebook(range(total_episodes)):\n",
    "    dqn_zeros.run_episode(e, do_learning=True)"
   ]
  },
  {
   "cell_type": "code",
   "execution_count": 23,
   "metadata": {},
   "outputs": [
    {
     "name": "stdout",
     "output_type": "stream",
     "text": [
      "Данные о среднем выигрыше по всем сыгранным 5000 играм для крестиков\n",
      "Данные о среднем выигрыше по всем сыгранным 5000 играм для ноликов\n"
     ]
    },
    {
     "data": {
      "image/png": "[encoded data removed]",
      "text/plain": [
       "<Figure size 720x432 with 1 Axes>"
      ]
     },
     "metadata": {
      "needs_background": "light"
     },
     "output_type": "display_data"
    }
   ],
   "source": [
    "draw_rewards(algorithm='DQN', \n",
    "             crosses_rewards=dqn_crosses.rewards_list, \n",
    "             zeros_rewards=dqn_zeros.rewards_list,\n",
    "             print_every=total_episodes//100\n",
    "            )"
   ]
  },
  {
   "cell_type": "markdown",
   "metadata": {},
   "source": [
    "## Task 4"
   ]
  },
  {
   "cell_type": "code",
   "execution_count": 24,
   "metadata": {},
   "outputs": [],
   "source": [
    "class DuelingDQN_Network(nn.Module):\n",
    "    def __init__(self, rows, cols):\n",
    "        super(DuelingDQN_Network, self).__init__()\n",
    "        \n",
    "        self.conv = nn.Sequential(\n",
    "            nn.Conv2d(1, 32, kernel_size=3, stride=1, padding=2),\n",
    "            nn.ReLU(),\n",
    "            nn.MaxPool2d(kernel_size=3, stride=1)\n",
    "        )\n",
    "\n",
    "        self.value_stream = nn.Sequential(\n",
    "            nn.Linear(rows * cols * 32, 128),\n",
    "            nn.ReLU(),\n",
    "            nn.Linear(128, 1)\n",
    "        )\n",
    "\n",
    "        self.advantage_stream = nn.Sequential(\n",
    "            nn.Linear(rows * cols * 32, 128),\n",
    "            nn.ReLU(),\n",
    "            nn.Linear(128, rows * cols)\n",
    "        )\n",
    "        \n",
    "    def forward(self, state):\n",
    "        \n",
    "        features = self.conv(state)\n",
    "        features = features.reshape(features.size(0), -1)\n",
    "        values = self.value_stream(features)\n",
    "        advantages = self.advantage_stream(features)\n",
    "        qvals = values + (advantages - advantages.mean(1).reshape((-1,1)))\n",
    "        \n",
    "        return qvals"
   ]
  },
  {
   "cell_type": "markdown",
   "metadata": {},
   "source": [
    "### Поле 3х3"
   ]
  },
  {
   "cell_type": "code",
   "execution_count": 25,
   "metadata": {},
   "outputs": [
    {
     "data": {
      "application/vnd.jupyter.widget-view+json": {
       "model_id": "557b25a7632a4d3b8f58133548064bd4",
       "version_major": 2,
       "version_minor": 0
      },
      "text/plain": [
       "HBox(children=(FloatProgress(value=0.0, max=1000.0), HTML(value='')))"
      ]
     },
     "metadata": {},
     "output_type": "display_data"
    },
    {
     "name": "stdout",
     "output_type": "stream",
     "text": [
      "\n"
     ]
    },
    {
     "data": {
      "application/vnd.jupyter.widget-view+json": {
       "model_id": "bc46a3837c2b4cb79681619b31e96793",
       "version_major": 2,
       "version_minor": 0
      },
      "text/plain": [
       "HBox(children=(FloatProgress(value=0.0, max=1000.0), HTML(value='')))"
      ]
     },
     "metadata": {},
     "output_type": "display_data"
    },
    {
     "name": "stdout",
     "output_type": "stream",
     "text": [
      "\n",
      "Wall time: 4min 40s\n"
     ]
    }
   ],
   "source": [
    "%%time\n",
    "total_episodes=1000\n",
    "env = TicTacToe(n_rows=3, n_cols=3, n_win=3)\n",
    "\n",
    "# Учимся играть крестиками\n",
    "dqn_crosses = TicTocDQN(env = env, crosses_flg = 1, net = DuelingDQN_Network(env.n_rows, env.n_cols))\n",
    "for e in tqdm_notebook(range(total_episodes)):\n",
    "    dqn_crosses.run_episode(e, do_learning=True)\n",
    "    \n",
    "# Учимся играть ноликами\n",
    "dqn_zeros = TicTocDQN(env = env, crosses_flg = -1, net = DuelingDQN_Network(env.n_rows, env.n_cols))\n",
    "for e in tqdm_notebook(range(total_episodes)):\n",
    "    dqn_zeros.run_episode(e, do_learning=True)\n"
   ]
  },
  {
   "cell_type": "code",
   "execution_count": 26,
   "metadata": {},
   "outputs": [
    {
     "name": "stdout",
     "output_type": "stream",
     "text": [
      "Данные о среднем выигрыше по всем сыгранным 1000 играм для крестиков\n",
      "Данные о среднем выигрыше по всем сыгранным 1000 играм для ноликов\n"
     ]
    },
    {
     "data": {
      "image/png": "[encoded data removed]",
      "text/plain": [
       "<Figure size 720x432 with 1 Axes>"
      ]
     },
     "metadata": {
      "needs_background": "light"
     },
     "output_type": "display_data"
    }
   ],
   "source": [
    "draw_rewards(algorithm='DQN', \n",
    "             crosses_rewards=dqn_crosses.rewards_list, \n",
    "             zeros_rewards=dqn_zeros.rewards_list,\n",
    "             print_every=total_episodes//100\n",
    "            )"
   ]
  },
  {
   "cell_type": "markdown",
   "metadata": {},
   "source": [
    "### Поле 4х4"
   ]
  },
  {
   "cell_type": "code",
   "execution_count": 27,
   "metadata": {},
   "outputs": [
    {
     "data": {
      "application/vnd.jupyter.widget-view+json": {
       "model_id": "8de6bd8f22894cb88c4325ce45eee620",
       "version_major": 2,
       "version_minor": 0
      },
      "text/plain": [
       "HBox(children=(FloatProgress(value=0.0, max=1000.0), HTML(value='')))"
      ]
     },
     "metadata": {},
     "output_type": "display_data"
    },
    {
     "name": "stdout",
     "output_type": "stream",
     "text": [
      "\n"
     ]
    },
    {
     "data": {
      "application/vnd.jupyter.widget-view+json": {
       "model_id": "751e54da3c2b49eeaa5ba8f268e3a8e1",
       "version_major": 2,
       "version_minor": 0
      },
      "text/plain": [
       "HBox(children=(FloatProgress(value=0.0, max=1000.0), HTML(value='')))"
      ]
     },
     "metadata": {},
     "output_type": "display_data"
    },
    {
     "name": "stdout",
     "output_type": "stream",
     "text": [
      "\n",
      "Wall time: 6min 13s\n"
     ]
    }
   ],
   "source": [
    "%%time\n",
    "total_episodes=1000\n",
    "env = TicTacToe(n_rows=4, n_cols=4, n_win=3)\n",
    "\n",
    "# Учимся играть крестиками\n",
    "dqn_crosses = TicTocDQN(env = env, crosses_flg = 1, net = DuelingDQN_Network(env.n_rows, env.n_cols))\n",
    "for e in tqdm_notebook(range(total_episodes)):\n",
    "    dqn_crosses.run_episode(e, do_learning=True)\n",
    "    \n",
    "# Учимся играть ноликами\n",
    "dqn_zeros = TicTocDQN(env = env, crosses_flg = -1, net = DuelingDQN_Network(env.n_rows, env.n_cols))\n",
    "for e in tqdm_notebook(range(total_episodes)):\n",
    "    dqn_zeros.run_episode(e, do_learning=True)"
   ]
  },
  {
   "cell_type": "code",
   "execution_count": 28,
   "metadata": {},
   "outputs": [
    {
     "name": "stdout",
     "output_type": "stream",
     "text": [
      "Данные о среднем выигрыше по всем сыгранным 1000 играм для крестиков\n",
      "Данные о среднем выигрыше по всем сыгранным 1000 играм для ноликов\n"
     ]
    },
    {
     "data": {
      "image/png": "[encoded data removed]",
      "text/plain": [
       "<Figure size 720x432 with 1 Axes>"
      ]
     },
     "metadata": {
      "needs_background": "light"
     },
     "output_type": "display_data"
    }
   ],
   "source": [
    "draw_rewards(algorithm='DQN', \n",
    "             crosses_rewards=dqn_crosses.rewards_list, \n",
    "             zeros_rewards=dqn_zeros.rewards_list,\n",
    "             print_every=total_episodes//100\n",
    "            )"
   ]
  },
  {
   "cell_type": "markdown",
   "metadata": {},
   "source": [
    "### Поле 5х5"
   ]
  },
  {
   "cell_type": "code",
   "execution_count": 29,
   "metadata": {},
   "outputs": [
    {
     "data": {
      "application/vnd.jupyter.widget-view+json": {
       "model_id": "d3ac445d2d504519a3c51d08eb31f8e9",
       "version_major": 2,
       "version_minor": 0
      },
      "text/plain": [
       "HBox(children=(FloatProgress(value=0.0, max=1000.0), HTML(value='')))"
      ]
     },
     "metadata": {},
     "output_type": "display_data"
    },
    {
     "name": "stdout",
     "output_type": "stream",
     "text": [
      "\n"
     ]
    },
    {
     "data": {
      "application/vnd.jupyter.widget-view+json": {
       "model_id": "baf75607147d4fc2af8737300989e71f",
       "version_major": 2,
       "version_minor": 0
      },
      "text/plain": [
       "HBox(children=(FloatProgress(value=0.0, max=1000.0), HTML(value='')))"
      ]
     },
     "metadata": {},
     "output_type": "display_data"
    },
    {
     "name": "stdout",
     "output_type": "stream",
     "text": [
      "\n",
      "Wall time: 7min 18s\n"
     ]
    }
   ],
   "source": [
    "%%time\n",
    "total_episodes=1000\n",
    "env = TicTacToe(n_rows=5, n_cols=5, n_win=3)\n",
    "\n",
    "# Учимся играть крестиками\n",
    "dqn_crosses = TicTocDQN(env = env, crosses_flg = 1, net = DuelingDQN_Network(env.n_rows, env.n_cols))\n",
    "for e in tqdm_notebook(range(total_episodes)):\n",
    "    dqn_crosses.run_episode(e, do_learning=True)\n",
    "    \n",
    "# Учимся играть ноликами\n",
    "dqn_zeros = TicTocDQN(env = env, crosses_flg = -1, net = DuelingDQN_Network(env.n_rows, env.n_cols))\n",
    "for e in tqdm_notebook(range(total_episodes)):\n",
    "    dqn_zeros.run_episode(e, do_learning=True)"
   ]
  },
  {
   "cell_type": "code",
   "execution_count": 30,
   "metadata": {},
   "outputs": [
    {
     "name": "stdout",
     "output_type": "stream",
     "text": [
      "Данные о среднем выигрыше по всем сыгранным 1000 играм для крестиков\n",
      "Данные о среднем выигрыше по всем сыгранным 1000 играм для ноликов\n"
     ]
    },
    {
     "data": {
      "image/png": "[encoded data removed]",
      "text/plain": [
       "<Figure size 720x432 with 1 Axes>"
      ]
     },
     "metadata": {
      "needs_background": "light"
     },
     "output_type": "display_data"
    }
   ],
   "source": [
    "draw_rewards(algorithm='DQN', \n",
    "             crosses_rewards=dqn_crosses.rewards_list, \n",
    "             zeros_rewards=dqn_zeros.rewards_list,\n",
    "             print_every=total_episodes//100\n",
    "            )"
   ]
  },
  {
   "cell_type": "markdown",
   "metadata": {},
   "source": [
    "# Часть третья: расширим и углубим поиск"
   ]
  },
  {
   "cell_type": "markdown",
   "metadata": {},
   "source": [
    "Крестики-нолики -- это, конечно, далеко не го, и обычный альфа-бета поиск с отсечением здесь наверняка может работать идеально вплоть до довольно больших досок. Однако мы всё-таки для этого учебного задания будем реализовывать более практически релевантный метод MCTS -- заодно фактически получится и упражнение на многоруких бандитов."
   ]
  },
  {
   "cell_type": "markdown",
   "metadata": {},
   "source": [
    "5. Реализуйте rollouts со случайной стратегией и (опционально) rollouts с неслучайной, но простой стратегией (например, основанной на дополнении нескольких паттернов или на Q-функции, которая у вас получилась в первом пункте).\n",
    "6. Реализуйте MCTS-поиск с этими rollouts для крестиков-ноликов на досках разного размера, сравните полученные стратегии между собой и со стратегиями, обученными в первых двух частях."
   ]
  },
  {
   "cell_type": "markdown",
   "metadata": {},
   "source": [
    "## Task 5"
   ]
  },
  {
   "cell_type": "code",
   "execution_count": 31,
   "metadata": {},
   "outputs": [],
   "source": [
    "# Функция rollout для определенного состояния\n",
    "# Для каждого действия определяем среднюю награду\n",
    "def rollout(env, strategy, nrolls, crosses_flg):\n",
    "    possible_actions = [env.int_from_action(env.getEmptySpaces()[i]) for i in range(len(env.getEmptySpaces()))]\n",
    "    rewards = {el: [] for el in possible_actions}\n",
    "    for i in range(nrolls):\n",
    "        for act in possible_actions:\n",
    "            cur_env = deepcopy(env)\n",
    "            _, reward, done, _ = cur_env.step(cur_env.action_from_int(act))\n",
    "            if done:\n",
    "                rewards[act].append(reward * crosses_flg)\n",
    "                continue\n",
    "                \n",
    "            while True:\n",
    "                #opponents turn\n",
    "                p_actions = [cur_env.int_from_action(cur_env.getEmptySpaces()[i]) for i in range(len(cur_env.getEmptySpaces()))]\n",
    "                opponents_action = np.random.choice(p_actions)\n",
    "                _, reward, done, _ = cur_env.step(cur_env.action_from_int(opponents_action))\n",
    "                if done:\n",
    "                    rewards[act].append(reward * crosses_flg)\n",
    "                    break\n",
    "                \n",
    "                #our turn\n",
    "                p_actions = [cur_env.int_from_action(cur_env.getEmptySpaces()[i]) for i in range(len(cur_env.getEmptySpaces()))]\n",
    "                our_action = strategy(cur_env)\n",
    "                \n",
    "                _, reward, done, _ = cur_env.step(cur_env.action_from_int(our_action))\n",
    "                if done:\n",
    "                    rewards[act].append(reward * crosses_flg)\n",
    "                    break\n",
    "                    \n",
    "    actions = {el: np.mean(rewards[el]) for el in possible_actions}\n",
    "    max_reward = -10\n",
    "    best_act = 0\n",
    "    for act in actions.keys():\n",
    "        if actions[act] > max_reward:\n",
    "            best_act = act\n",
    "            max_reward = actions[act]\n",
    "    return best_act, actions"
   ]
  },
  {
   "cell_type": "code",
   "execution_count": 32,
   "metadata": {},
   "outputs": [],
   "source": [
    "# Моделирование игры со стратегией, определенной rollout\n",
    "def rollout_game(env, strategy, nrolls = 100, crosses_flg = 1):\n",
    "    if crosses_flg != env.curTurn:\n",
    "        possible_actions = [env.int_from_action(env.getEmptySpaces()[i]) for i in range(len(env.getEmptySpaces()))]\n",
    "        opponents_action = np.random.choice(possible_actions)\n",
    "        env.step(env.action_from_int(opponents_action))\n",
    "    \n",
    "    while True:\n",
    "        #our turn\n",
    "        p_actions = [env.int_from_action(env.getEmptySpaces()[i]) for i in range(len(env.getEmptySpaces()))]\n",
    "        our_action, _ = rollout(env, strategy, nrolls, crosses_flg)\n",
    "                \n",
    "        _, reward, done, _ = env.step(env.action_from_int(our_action))\n",
    "        \n",
    "        if done:\n",
    "            return reward * crosses_flg\n",
    "        \n",
    "        #opponents turn\n",
    "        p_actions = [env.int_from_action(env.getEmptySpaces()[i]) for i in range(len(env.getEmptySpaces()))]\n",
    "        opponents_action = np.random.choice(p_actions)\n",
    "        \n",
    "        _, reward, done, _ = env.step(env.action_from_int(opponents_action))\n",
    "        \n",
    "        if done:\n",
    "            return reward * crosses_flg"
   ]
  },
  {
   "cell_type": "code",
   "execution_count": 33,
   "metadata": {},
   "outputs": [],
   "source": [
    "# Стратегия которая используется для вычисления среднего выигрыша с помощью rollout\n",
    "def random_str(env):\n",
    "    possible_actions = [env.int_from_action(env.getEmptySpaces()[i]) for i in range(len(env.getEmptySpaces()))]\n",
    "    return possible_actions[np.random.choice(len(possible_actions))]"
   ]
  },
  {
   "cell_type": "markdown",
   "metadata": {},
   "source": [
    "### Поле 3х3"
   ]
  },
  {
   "cell_type": "code",
   "execution_count": 34,
   "metadata": {},
   "outputs": [
    {
     "data": {
      "application/vnd.jupyter.widget-view+json": {
       "model_id": "0eb9a55c8a284efab8c3d58179e467d3",
       "version_major": 2,
       "version_minor": 0
      },
      "text/plain": [
       "HBox(children=(FloatProgress(value=0.0), HTML(value='')))"
      ]
     },
     "metadata": {},
     "output_type": "display_data"
    },
    {
     "name": "stdout",
     "output_type": "stream",
     "text": [
      "\n"
     ]
    },
    {
     "data": {
      "application/vnd.jupyter.widget-view+json": {
       "model_id": "2a9db63dc86b4a40963023fcb9380279",
       "version_major": 2,
       "version_minor": 0
      },
      "text/plain": [
       "HBox(children=(FloatProgress(value=0.0), HTML(value='')))"
      ]
     },
     "metadata": {},
     "output_type": "display_data"
    },
    {
     "name": "stdout",
     "output_type": "stream",
     "text": [
      "\n",
      "Wall time: 6min 35s\n"
     ]
    }
   ],
   "source": [
    "%%time\n",
    "total_episodes=100\n",
    "env = TicTacToe(n_rows=3, n_cols=3, n_win=3)\n",
    "\n",
    "# Учимся играть крестиками\n",
    "rewards_crosses = []\n",
    "for i in tqdm_notebook(range(total_episodes)):\n",
    "    env.reset()\n",
    "    rewards_crosses.append(rollout_game(env, random_str, nrolls = 100, crosses_flg = 1))\n",
    "    \n",
    "# Учимся играть ноликами\n",
    "rewards_zeros = []\n",
    "for i in tqdm_notebook(range(total_episodes)):\n",
    "    env.reset()\n",
    "    rewards_zeros.append(rollout_game(env, random_str, nrolls = 100, crosses_flg = -1))\n"
   ]
  },
  {
   "cell_type": "code",
   "execution_count": 35,
   "metadata": {},
   "outputs": [
    {
     "name": "stdout",
     "output_type": "stream",
     "text": [
      "Данные о среднем выигрыше по всем сыгранным 100 играм для крестиков\n",
      "Данные о среднем выигрыше по всем сыгранным 100 играм для ноликов\n"
     ]
    },
    {
     "data": {
      "image/png": "[encoded data removed]",
      "text/plain": [
       "<Figure size 720x432 with 1 Axes>"
      ]
     },
     "metadata": {
      "needs_background": "light"
     },
     "output_type": "display_data"
    },
    {
     "name": "stdout",
     "output_type": "stream",
     "text": [
      "Средний выигрыш крестиков: 0.98\n",
      "Средний выигрыш ноликов: 0.93\n"
     ]
    }
   ],
   "source": [
    "draw_rewards(algorithm='DQN', \n",
    "             crosses_rewards=rewards_crosses, \n",
    "             zeros_rewards=rewards_zeros,\n",
    "             print_every=total_episodes//100\n",
    "            )\n",
    "print('Средний выигрыш крестиков:', np.mean(rewards_crosses))\n",
    "print('Средний выигрыш ноликов:', np.mean(rewards_zeros))"
   ]
  },
  {
   "cell_type": "markdown",
   "metadata": {},
   "source": [
    "### Поле 4х4"
   ]
  },
  {
   "cell_type": "code",
   "execution_count": 36,
   "metadata": {},
   "outputs": [
    {
     "data": {
      "application/vnd.jupyter.widget-view+json": {
       "model_id": "6e3386a8ea294fd9a2f82591d3981ce5",
       "version_major": 2,
       "version_minor": 0
      },
      "text/plain": [
       "HBox(children=(FloatProgress(value=0.0), HTML(value='')))"
      ]
     },
     "metadata": {},
     "output_type": "display_data"
    },
    {
     "name": "stdout",
     "output_type": "stream",
     "text": [
      "\n"
     ]
    },
    {
     "data": {
      "application/vnd.jupyter.widget-view+json": {
       "model_id": "071e76b4a68d4b0fa33b8e479efeddf8",
       "version_major": 2,
       "version_minor": 0
      },
      "text/plain": [
       "HBox(children=(FloatProgress(value=0.0), HTML(value='')))"
      ]
     },
     "metadata": {},
     "output_type": "display_data"
    },
    {
     "name": "stdout",
     "output_type": "stream",
     "text": [
      "\n",
      "Wall time: 26min 10s\n"
     ]
    }
   ],
   "source": [
    "%%time\n",
    "total_episodes=100\n",
    "env = TicTacToe(n_rows=4, n_cols=4, n_win=3)\n",
    "\n",
    "# Учимся играть крестиками\n",
    "rewards_crosses = []\n",
    "for i in tqdm_notebook(range(total_episodes)):\n",
    "    env.reset()\n",
    "    rewards_crosses.append(rollout_game(env, random_str, nrolls = 100, crosses_flg = 1))\n",
    "    \n",
    "# Учимся играть ноликами\n",
    "rewards_zeros = []\n",
    "for i in tqdm_notebook(range(total_episodes)):\n",
    "    env.reset()\n",
    "    rewards_zeros.append(rollout_game(env, random_str, nrolls = 100, crosses_flg = -1))\n"
   ]
  },
  {
   "cell_type": "code",
   "execution_count": 37,
   "metadata": {},
   "outputs": [
    {
     "name": "stdout",
     "output_type": "stream",
     "text": [
      "Данные о среднем выигрыше по всем сыгранным 100 играм для крестиков\n",
      "Данные о среднем выигрыше по всем сыгранным 100 играм для ноликов\n"
     ]
    },
    {
     "data": {
      "image/png": "[encoded data removed]",
      "text/plain": [
       "<Figure size 720x432 with 1 Axes>"
      ]
     },
     "metadata": {
      "needs_background": "light"
     },
     "output_type": "display_data"
    },
    {
     "name": "stdout",
     "output_type": "stream",
     "text": [
      "Средний выигрыш крестиков: 1.0\n",
      "Средний выигрыш ноликов: 0.88\n"
     ]
    }
   ],
   "source": [
    "draw_rewards(algorithm='DQN', \n",
    "             crosses_rewards=rewards_crosses, \n",
    "             zeros_rewards=rewards_zeros,\n",
    "             print_every=total_episodes//100\n",
    "            )\n",
    "print('Средний выигрыш крестиков:', np.mean(rewards_crosses))\n",
    "print('Средний выигрыш ноликов:', np.mean(rewards_zeros))"
   ]
  },
  {
   "cell_type": "markdown",
   "metadata": {},
   "source": [
    "### Поле 5х5"
   ]
  },
  {
   "cell_type": "code",
   "execution_count": 38,
   "metadata": {},
   "outputs": [
    {
     "data": {
      "application/vnd.jupyter.widget-view+json": {
       "model_id": "52b82837e9a24cf78aaa2018d4f478c8",
       "version_major": 2,
       "version_minor": 0
      },
      "text/plain": [
       "HBox(children=(FloatProgress(value=0.0), HTML(value='')))"
      ]
     },
     "metadata": {},
     "output_type": "display_data"
    },
    {
     "name": "stdout",
     "output_type": "stream",
     "text": [
      "\n"
     ]
    },
    {
     "data": {
      "application/vnd.jupyter.widget-view+json": {
       "model_id": "d760f5b4e646481fae22d1062e91d0e3",
       "version_major": 2,
       "version_minor": 0
      },
      "text/plain": [
       "HBox(children=(FloatProgress(value=0.0), HTML(value='')))"
      ]
     },
     "metadata": {},
     "output_type": "display_data"
    },
    {
     "name": "stdout",
     "output_type": "stream",
     "text": [
      "\n",
      "Wall time: 1h 2min 50s\n"
     ]
    }
   ],
   "source": [
    "%%time\n",
    "total_episodes=100\n",
    "env = TicTacToe(n_rows=5, n_cols=5, n_win=3)\n",
    "\n",
    "# Учимся играть крестиками\n",
    "rewards_crosses = []\n",
    "for i in tqdm_notebook(range(total_episodes)):\n",
    "    env.reset()\n",
    "    rewards_crosses.append(rollout_game(env, random_str, nrolls = 100, crosses_flg = 1))\n",
    "    \n",
    "# Учимся играть ноликами\n",
    "rewards_zeros = []\n",
    "for i in tqdm_notebook(range(total_episodes)):\n",
    "    env.reset()\n",
    "    rewards_zeros.append(rollout_game(env, random_str, nrolls = 100, crosses_flg = -1))\n"
   ]
  },
  {
   "cell_type": "code",
   "execution_count": 39,
   "metadata": {},
   "outputs": [
    {
     "name": "stdout",
     "output_type": "stream",
     "text": [
      "Данные о среднем выигрыше по всем сыгранным 100 играм для крестиков\n",
      "Данные о среднем выигрыше по всем сыгранным 100 играм для ноликов\n"
     ]
    },
    {
     "data": {
      "image/png": "[encoded data removed]",
      "text/plain": [
       "<Figure size 720x432 with 1 Axes>"
      ]
     },
     "metadata": {
      "needs_background": "light"
     },
     "output_type": "display_data"
    },
    {
     "name": "stdout",
     "output_type": "stream",
     "text": [
      "Средний выигрыш крестиков: 1.0\n",
      "Средний выигрыш ноликов: 0.98\n"
     ]
    }
   ],
   "source": [
    "draw_rewards(algorithm='DQN', \n",
    "             crosses_rewards=rewards_crosses, \n",
    "             zeros_rewards=rewards_zeros,\n",
    "             print_every=total_episodes//100\n",
    "            )\n",
    "print('Средний выигрыш крестиков:', np.mean(rewards_crosses))\n",
    "print('Средний выигрыш ноликов:', np.mean(rewards_zeros))"
   ]
  },
  {
   "cell_type": "markdown",
   "metadata": {},
   "source": [
    "## Task 6"
   ]
  },
  {
   "cell_type": "code",
   "execution_count": 40,
   "metadata": {},
   "outputs": [],
   "source": [
    "def replace(s, position, character):\n",
    "    return s[:position] + character + s[position+1:]"
   ]
  },
  {
   "cell_type": "code",
   "execution_count": 41,
   "metadata": {},
   "outputs": [],
   "source": [
    "C = 0.8\n",
    "\n",
    "class Node():\n",
    "    def __init__(self):\n",
    "        self.parent = None\n",
    "        self.children = {}\n",
    "        self.visits = 0\n",
    "        self.value = 0\n",
    "        self.state = None\n",
    "        self.index = 0\n",
    "        self.storage = None\n",
    "    \n",
    "    def ucb(self):\n",
    "        if self.visits == 0:\n",
    "            return float('inf')\n",
    "        return self.value / self.visits + C * math.sqrt(math.log(self.storage[self.parent].visits) / self.visits)\n",
    "    \n",
    "    def create_children(self):\n",
    "        if self.is_leaf():\n",
    "            np_state = np.array(list(map(int, self.state)))\n",
    "            available_actions = np.where(np_state == 1)[0]\n",
    "            if (len(self.state) - len(available_actions)) % 2 == 0:\n",
    "                curTurn = 1\n",
    "            else:\n",
    "                curTurn = -1\n",
    "            for action in available_actions:\n",
    "                child = Node()\n",
    "                child.parent = self.index\n",
    "                child.state = replace(self.state, action, str(curTurn + 1))\n",
    "                child.index = len(self.storage)\n",
    "                child.storage = self.storage\n",
    "                self.children[action] = child.index\n",
    "                self.storage.append(child)\n",
    "    \n",
    "    def is_leaf(self):\n",
    "        return len(self.children) == 0\n",
    "    \n",
    "    def select_child(self, how=\"best\"):\n",
    "        eps = 0.7\n",
    "        if how == \"best\":\n",
    "            fun = max\n",
    "            characteristic = lambda x: self.storage[x[1]].ucb()\n",
    "        elif how == \"worse\":\n",
    "            fun = min\n",
    "            characteristic = lambda x: self.storage[x[1]].ucb()\n",
    "        elif how == \"random\":\n",
    "            return random.choice(list(self.children.items()))\n",
    "        else:\n",
    "            fun = None\n",
    "            characteristic = None\n",
    "        if not self.is_leaf():\n",
    "            return max(self.children.items(), key=characteristic)"
   ]
  },
  {
   "cell_type": "code",
   "execution_count": 42,
   "metadata": {},
   "outputs": [],
   "source": [
    "def rollout(env, strategy, nrolls, crosses_flg):\n",
    "    possible_actions = [env.int_from_action(env.getEmptySpaces()[i]) for i in range(len(env.getEmptySpaces()))]\n",
    "    cur_env= deepcopy(env)\n",
    "    done = env.gameOver\n",
    "    if done:\n",
    "        return 0 \n",
    "    \n",
    "    while True:\n",
    "        #our turn\n",
    "        p_actions = [cur_env.int_from_action(cur_env.getEmptySpaces()[i]) for i in range(len(cur_env.getEmptySpaces()))]\n",
    "        our_action = strategy(cur_env)\n",
    "                \n",
    "        _, reward, done, _ = cur_env.step(cur_env.action_from_int(our_action))\n",
    "        if done:\n",
    "            return reward * crosses_flg\n",
    "        \n",
    "        #opponents turn\n",
    "        p_actions = [cur_env.int_from_action(cur_env.getEmptySpaces()[i]) for i in range(len(cur_env.getEmptySpaces()))]\n",
    "        opponents_action = np.random.choice(p_actions)\n",
    "        _, reward, done, _ = cur_env.step(cur_env.action_from_int(opponents_action))\n",
    "        if done:\n",
    "            return reward * crosses_flg"
   ]
  },
  {
   "cell_type": "code",
   "execution_count": 43,
   "metadata": {},
   "outputs": [],
   "source": [
    "class Mcts():\n",
    "    def __init__(self, env, crosses_flg):\n",
    "        self.env = env\n",
    "        self.env.reset()\n",
    "        self.crosses_flg = crosses_flg\n",
    "        self.nodes = []\n",
    "\n",
    "        root = Node()\n",
    "        root.state = self.env.getState()[0]\n",
    "        root.index = 0\n",
    "        root.storage = self.nodes\n",
    "        self.nodes.append(root)\n",
    "        \n",
    "        self.current_node = 0\n",
    "        \n",
    "    def next_step(self):\n",
    "        action, self.current_node = self.nodes[self.current_node].select_child()\n",
    "        self.env.step(self.env.action_from_int(action))\n",
    "    \n",
    "    def selection(self):\n",
    "        while not self.nodes[self.current_node].is_leaf():\n",
    "            self.next_step()\n",
    "    \n",
    "    def expansion(self):\n",
    "        if not self.env.gameOver:\n",
    "            if self.nodes[self.current_node].visits > 0:\n",
    "                self.nodes[self.current_node].create_children()\n",
    "                self.next_step()\n",
    "    \n",
    "    def simulation(self):\n",
    "        return rollout(self.env, random_str, 1, self.crosses_flg)\n",
    "    \n",
    "    def backpropagation(self, r):\n",
    "        while self.nodes[self.current_node].parent is not None:\n",
    "            self.nodes[self.current_node].visits += 1\n",
    "            self.nodes[self.current_node].value += r\n",
    "            self.current_node = self.nodes[self.current_node].parent\n",
    "        self.nodes[self.current_node].visits += 1\n",
    "        self.nodes[self.current_node].value += r\n",
    "    \n",
    "    def learn(self, n_episodes=10000):\n",
    "        for _ in tqdm_notebook(range(n_episodes)):\n",
    "            assert self.current_node == 0\n",
    "            self.env.reset()\n",
    "            self.selection()\n",
    "            self.expansion()\n",
    "            r = self.simulation()\n",
    "            self.backpropagation(r)"
   ]
  },
  {
   "cell_type": "code",
   "execution_count": 44,
   "metadata": {},
   "outputs": [],
   "source": [
    "def run(model, crosses_flg, n_episodes = 12):\n",
    "    cum_rewards = 0\n",
    "    count_games = 0\n",
    "    for _ in range(n_episodes):\n",
    "        model.env.reset()\n",
    "        model.current_node = 0\n",
    "        if crosses_flg == 1:\n",
    "            hows = [None, \"best\", \"random\"]\n",
    "        elif crosses_flg == -1:\n",
    "            hows = [None, \"random\", \"worse\"]\n",
    "        else:\n",
    "            hows = None\n",
    "        while not model.nodes[model.current_node].is_leaf():\n",
    "            action, model.current_node = model.nodes[model.current_node].select_child(hows[model.env.curTurn])\n",
    "            _, reward, done, _ = model.env.step(model.env.action_from_int(action))\n",
    "        if done:\n",
    "            cum_rewards += reward * crosses_flg\n",
    "            count_games += 1\n",
    "    mean_reward = cum_rewards / count_games\n",
    "    print(f\"Mean reward vs random policy equal {mean_reward} after {count_games} games.\")\n",
    "#     return mean_reward"
   ]
  },
  {
   "cell_type": "markdown",
   "metadata": {},
   "source": [
    "### Поле 3х3"
   ]
  },
  {
   "cell_type": "code",
   "execution_count": 45,
   "metadata": {},
   "outputs": [
    {
     "data": {
      "application/vnd.jupyter.widget-view+json": {
       "model_id": "30560cf58664458e9abde7154962d15d",
       "version_major": 2,
       "version_minor": 0
      },
      "text/plain": [
       "HBox(children=(FloatProgress(value=0.0, max=100000.0), HTML(value='')))"
      ]
     },
     "metadata": {},
     "output_type": "display_data"
    },
    {
     "name": "stdout",
     "output_type": "stream",
     "text": [
      "\n",
      "Mean reward vs random policy equal 0.7653569452130603 after 1807 games.\n"
     ]
    },
    {
     "data": {
      "application/vnd.jupyter.widget-view+json": {
       "model_id": "a3a7ad80c43a45549627b8bc16cc2f18",
       "version_major": 2,
       "version_minor": 0
      },
      "text/plain": [
       "HBox(children=(FloatProgress(value=0.0, max=100000.0), HTML(value='')))"
      ]
     },
     "metadata": {},
     "output_type": "display_data"
    },
    {
     "name": "stdout",
     "output_type": "stream",
     "text": [
      "\n",
      "Mean reward vs random policy equal 0.44187725631768954 after 1385 games.\n",
      "Wall time: 1min 56s\n"
     ]
    }
   ],
   "source": [
    "%%time\n",
    "total_episodes=100000\n",
    "env = TicTacToe(n_rows=3, n_cols=3, n_win=3)\n",
    "\n",
    "# Учимся играть крестиками\n",
    "mcts = Mcts(env, crosses_flg=1)\n",
    "mcts.learn(n_episodes=total_episodes)\n",
    "run(mcts, mcts.crosses_flg, 10000)\n",
    "\n",
    "# Учимся играть ноликами\n",
    "mcts = Mcts(env, crosses_flg=-1)\n",
    "mcts.learn(n_episodes=total_episodes)\n",
    "run(mcts, mcts.crosses_flg, 10000)"
   ]
  },
  {
   "cell_type": "markdown",
   "metadata": {},
   "source": [
    "### Поле 4х4"
   ]
  },
  {
   "cell_type": "code",
   "execution_count": 48,
   "metadata": {},
   "outputs": [
    {
     "data": {
      "application/vnd.jupyter.widget-view+json": {
       "model_id": "3f653fe224464e02bae816057d1c838e",
       "version_major": 2,
       "version_minor": 0
      },
      "text/plain": [
       "HBox(children=(FloatProgress(value=0.0, max=100000.0), HTML(value='')))"
      ]
     },
     "metadata": {},
     "output_type": "display_data"
    },
    {
     "name": "stdout",
     "output_type": "stream",
     "text": [
      "\n",
      "Mean reward vs random policy equal 0.9029126213592233 after 824 games.\n"
     ]
    },
    {
     "data": {
      "application/vnd.jupyter.widget-view+json": {
       "model_id": "2374accdbf12428ca5b1e7a887d57d47",
       "version_major": 2,
       "version_minor": 0
      },
      "text/plain": [
       "HBox(children=(FloatProgress(value=0.0, max=100000.0), HTML(value='')))"
      ]
     },
     "metadata": {},
     "output_type": "display_data"
    },
    {
     "name": "stdout",
     "output_type": "stream",
     "text": [
      "\n",
      "Mean reward vs random policy equal 0.02857142857142857 after 70 games.\n",
      "Wall time: 9min 28s\n"
     ]
    }
   ],
   "source": [
    "%%time\n",
    "total_episodes=100000\n",
    "env = TicTacToe(n_rows=4, n_cols=4, n_win=3)\n",
    "\n",
    "# Учимся играть крестиками\n",
    "mcts = Mcts(env, crosses_flg=1)\n",
    "mcts.learn(n_episodes=total_episodes)\n",
    "run(mcts, mcts.crosses_flg, 10000)\n",
    "\n",
    "# Учимся играть ноликами\n",
    "mcts = Mcts(env, crosses_flg=-1)\n",
    "mcts.learn(n_episodes=total_episodes)\n",
    "run(mcts, mcts.crosses_flg, 10000)\n"
   ]
  },
  {
   "cell_type": "markdown",
   "metadata": {},
   "source": [
    "### Поле 5х5"
   ]
  },
  {
   "cell_type": "code",
   "execution_count": 49,
   "metadata": {},
   "outputs": [
    {
     "data": {
      "application/vnd.jupyter.widget-view+json": {
       "model_id": "0bc820c780fc445caac9de8d38d41bd4",
       "version_major": 2,
       "version_minor": 0
      },
      "text/plain": [
       "HBox(children=(FloatProgress(value=0.0, max=100000.0), HTML(value='')))"
      ]
     },
     "metadata": {},
     "output_type": "display_data"
    },
    {
     "name": "stdout",
     "output_type": "stream",
     "text": [
      "\n",
      "Mean reward vs random policy equal 1.0 after 62 games.\n"
     ]
    },
    {
     "data": {
      "application/vnd.jupyter.widget-view+json": {
       "model_id": "c26ee1b03943494cb43296ea7958f4b6",
       "version_major": 2,
       "version_minor": 0
      },
      "text/plain": [
       "HBox(children=(FloatProgress(value=0.0, max=100000.0), HTML(value='')))"
      ]
     },
     "metadata": {},
     "output_type": "display_data"
    },
    {
     "name": "stdout",
     "output_type": "stream",
     "text": [
      "\n",
      "Mean reward vs random policy equal 0.1111111111111111 after 9 games.\n",
      "Wall time: 14min 32s\n"
     ]
    }
   ],
   "source": [
    "%%time\n",
    "total_episodes=100000\n",
    "env = TicTacToe(n_rows=5, n_cols=5, n_win=3)\n",
    "\n",
    "# Учимся играть крестиками\n",
    "mcts = Mcts(env, crosses_flg=1)\n",
    "mcts.learn(n_episodes=total_episodes)\n",
    "run(mcts, mcts.crosses_flg, 10000)\n",
    "\n",
    "# Учимся играть ноликами\n",
    "mcts = Mcts(env, crosses_flg=-1)\n",
    "mcts.learn(n_episodes=total_episodes)\n",
    "run(mcts, mcts.crosses_flg, 10000)\n"
   ]
  }
 ],
 "metadata": {
  "kernelspec": {
   "display_name": "Python 3",
   "language": "python",
   "name": "python3"
  },
  "language_info": {
   "codemirror_mode": {
    "name": "ipython",
    "version": 3
   },
   "file_extension": ".py",
   "mimetype": "text/x-python",
   "name": "python",
   "nbconvert_exporter": "python",
   "pygments_lexer": "ipython3",
   "version": "3.8.3"
  }
 },
 "nbformat": 4,
 "nbformat_minor": 4
}
